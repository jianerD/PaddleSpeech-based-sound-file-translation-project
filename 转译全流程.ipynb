{
 "cells": [
  {
   "cell_type": "markdown",
   "metadata": {},
   "source": [
    "# 获取文件对象"
   ]
  },
  {
   "cell_type": "code",
   "execution_count": 1,
   "metadata": {},
   "outputs": [],
   "source": [
    "# 获取路径下所有文件或文件夹——生成器\n",
    "import os\n",
    "\n",
    "def get_file_name(dir_path:str):\n",
    "    \n",
    "    # 二阶文件夹数据获取\n",
    "    file_list = os.listdir(dir_path)\n",
    "    for dir in file_list:\n",
    "        file_dir_path = os.path.join(dir_path,dir)\n",
    "        file_name_list = os.listdir(file_dir_path)\n",
    "        for num in range(len(file_name_list)):\n",
    "            file_name = file_name_list[num]\n",
    "            file_path = os.path.join(file_dir_path,file_name)\n",
    "            yield file_path"
   ]
  },
  {
   "cell_type": "markdown",
   "metadata": {},
   "source": [
    "# 语音长度判断"
   ]
  },
  {
   "cell_type": "code",
   "execution_count": 2,
   "metadata": {},
   "outputs": [],
   "source": [
    "import librosa\n",
    "import wave\n",
    "import contextlib\n",
    "import eyed3\n",
    "from pydub import AudioSegment\n",
    "\n",
    "def get_duration_mp3(file_path):\n",
    "    \"\"\"\n",
    "    获取mp3音频文件时长\n",
    "    :param file_path:\n",
    "    :return:\n",
    "    \"\"\"\n",
    "    mp3Info = eyed3.load(file_path)\n",
    "    return mp3Info.info.time_secs\n",
    "\n",
    "\n",
    "def get_duration_wav(file_path):\n",
    "    \"\"\"\n",
    "    获取wav音频文件时长\n",
    "    :param file_path:\n",
    "    :return:\n",
    "    \"\"\"\n",
    "    with contextlib.closing(wave.open(file_path, 'r')) as f:\n",
    "        frames = f.getnframes()\n",
    "        rate = f.getframerate()\n",
    "        duration = frames / float(rate)\n",
    "    return duration\n",
    "\n",
    "\n",
    "def get_duration_mp3_and_wav(file_path):\n",
    "     \"\"\"\n",
    "     获取mp3/wav音频文件时长\n",
    "     :param file_path:\n",
    "     :return:\n",
    "     \"\"\"\n",
    "     duration = librosa.get_duration(filename=file_path)\n",
    "     return duration\n",
    " \n",
    "\n",
    "# 获取wav音频时长的又一种方式\n",
    "def get_wav_make(file_path):\n",
    "    sound = AudioSegment.from_wav(file_path)\n",
    "    duration = sound.duration_seconds  # 音频时长（ms）\n",
    "    return duration"
   ]
  },
  {
   "cell_type": "markdown",
   "metadata": {},
   "source": [
    "file_genertor =  get_file_name(r'C:\\Users\\丁健一\\Desktop\\政府满意度项目\\人工外呼相关\\呼出结果分析\\转译项目\\项目文件\\datasets\\录音文件')\n",
    "file_path = next(file_genertor)\n",
    "file_path"
   ]
  },
  {
   "cell_type": "markdown",
   "metadata": {},
   "source": [
    "# 创建转译文件夹"
   ]
  },
  {
   "cell_type": "code",
   "execution_count": 3,
   "metadata": {},
   "outputs": [],
   "source": [
    "def dir_maker(dir_base:str,file_path:str):\n",
    "\n",
    "        # 对于给的文件路径取出其基路径与文件名\n",
    "        file_base_path, file_name = os.path.split(file_path)\n",
    "        file_dir_name = file_base_path.split('\\\\')[-1]\n",
    "        file_pure_name = file_name.split('.')[0]\n",
    "        \n",
    "        # 在指定的根目录下新建文件夹\n",
    "        dir_base = os.path.abspath(dir_base)\n",
    "        dir_path = os.path.join(dir_base,file_dir_name,file_pure_name)\n",
    "\n",
    "        # 建立各个文件夹\n",
    "        dir_list = ['mp3_to_wav','resampling','cut_record','to_text']\n",
    "        all_new_dirs = [os.path.join(dir_path,name) for name in dir_list]\n",
    "        try: \n",
    "            for dir in all_new_dirs:\n",
    "                os.makedirs(dir,exist_ok=True)\n",
    "\n",
    "        except Exception as e:\n",
    "            pass\n",
    "\n",
    "        # 返回一个列表，元素依次为文件路径，转换为wav的路径,重采样文件夹路径，切割录音路径，转译文件路径\n",
    "        return [file_path] + all_new_dirs"
   ]
  },
  {
   "cell_type": "markdown",
   "metadata": {},
   "source": [
    "file_path,wav_dir,resample_dir,cut_dir,text_dir = dir_maker(dir_base=r'C:\\Users\\丁健一\\Desktop\\政府满意度项目\\人工外呼相关\\呼出结果分析\\转译项目\\项目文件\\datasets\\转换文件',file_path = file_path)"
   ]
  },
  {
   "cell_type": "markdown",
   "metadata": {},
   "source": [
    "# 转换文件格式_1"
   ]
  },
  {
   "cell_type": "code",
   "execution_count": 4,
   "metadata": {},
   "outputs": [],
   "source": [
    "from pydub import AudioSegment\n",
    "import wave\n",
    "import io\n",
    "\n",
    "AudioSegment.converter = r\"C:\\Program Files\\ffmpeg\\bin\\ffmpeg.exe\"\n",
    "AudioSegment.ffmpeg = r\"C:\\Program Files\\ffmpeg\\bin\\ffmpeg.exe\"\n",
    "AudioSegment.ffprobe = r\"C:\\Program Files\\ffmpeg\\bin\\ffprobe.exe\"\n",
    "\n",
    "\n",
    "\n",
    "def mp3_to_wav(file_path, wav_dir):\n",
    "\n",
    "    # 处理文件路径\n",
    "    file_pure_name = os.path.split(file_path)[-1].split('.')[0]\n",
    "    file_wav_name = f'{file_pure_name}' + '.wav'\n",
    "    wav_path = os.path.join(wav_dir,file_wav_name)\n",
    "\n",
    "    song = AudioSegment.from_mp3(file_path)\n",
    "    song.export(wav_path, format=\"wav\")\n",
    "    return wav_path"
   ]
  },
  {
   "cell_type": "code",
   "execution_count": 5,
   "metadata": {},
   "outputs": [],
   "source": [
    "# wav_path = mp3_to_wav(file_path,wav_dir)\n",
    "# wav_path"
   ]
  },
  {
   "cell_type": "markdown",
   "metadata": {},
   "source": [
    "# 转换文件格式"
   ]
  },
  {
   "cell_type": "code",
   "execution_count": 6,
   "metadata": {},
   "outputs": [],
   "source": [
    "import os\n",
    "from ffmpy import FFmpeg\n",
    "\n",
    "\n",
    "# MP3转wav\n",
    "def audio_transfor(audio_path: str, output_dir: str):\n",
    "    ext = os.path.basename(audio_path).strip().split('.')[-1]\n",
    "    if ext != 'mp3':\n",
    "        raise Exception('format is not mp3')\n",
    "\n",
    "    result = os.path.join(output_dir, '{}.{}'.format(os.path.basename(audio_path).strip().split('.')[0], 'wav'))\n",
    "    filter_cmd = '-f wav -ac 1 -ar 16000'\n",
    "    ff = FFmpeg(\n",
    "        inputs={\n",
    "            audio_path: None}, outputs={\n",
    "            result: filter_cmd})\n",
    "    # print(ff.cmd)\n",
    "    ff.run()\n",
    "    return result"
   ]
  },
  {
   "cell_type": "markdown",
   "metadata": {},
   "source": [
    "# 重采样"
   ]
  },
  {
   "cell_type": "code",
   "execution_count": 7,
   "metadata": {},
   "outputs": [],
   "source": [
    "# 批量转换采样率\n",
    "import os\n",
    "import librosa\n",
    "import soundfile\n",
    "\n",
    "\n",
    "# 定义转换采样率的函数，接收3个变量：原音频路径、重新采样后的音频存储路径、目标采样率\n",
    "def change_sample_rate(path, new_dir_path, new_sample_rate):\n",
    "    wavfile = os.path.split(path)[-1] # 提取音频文件名，如“1.wav\"\n",
    "    # path.split('/')[-1]  \n",
    "    # new_file_name = wavfile.split('.')[0] + '_8k.wav'      #此行代码可用于对转换后的文件进行重命名（如有需要）\n",
    "\n",
    "    signal, sr = librosa.load(path, sr=None)  # 调用librosa载入音频\n",
    "    try:\n",
    "        new_signal = librosa.resample(signal, sr, new_sample_rate)  # 调用librosa进行音频采样率转换\n",
    "    except Exception as e:\n",
    "        pass\n",
    "\n",
    "    new_path = os.path.join(new_dir_path, wavfile)  # 指定输出音频的路径，音频文件与原音频同名\n",
    "    # new_path = os.path.join(new_dir_path, new_file_name)      #若需要改名则启用此行代码\n",
    "    # print(new_path)\n",
    "\n",
    "    # librosa.output.write_wav(new_path, new_signal , new_sample_rate)      #因版本问题，此方法可能用不了\n",
    "    soundfile.write(new_path, new_signal, new_sample_rate)\n",
    "    return new_path"
   ]
  },
  {
   "cell_type": "code",
   "execution_count": 8,
   "metadata": {},
   "outputs": [],
   "source": [
    "# resample_path = change_sample_rate(wav_path,resample_dir,16000)\n",
    "# resample_path"
   ]
  },
  {
   "cell_type": "markdown",
   "metadata": {},
   "source": [
    "# 剪切录音文件"
   ]
  },
  {
   "cell_type": "code",
   "execution_count": 9,
   "metadata": {},
   "outputs": [],
   "source": [
    "# 引入auditok库\n",
    "import auditok\n",
    "import soundfile\n",
    "import os\n",
    "\n",
    "\n",
    "# 输入类别为audio\n",
    "def qiefen(path,save_path, ty='audio', mmin_dur=1, mmax_dur=100000, mmax_silence=1, menergy_threshold=55):\n",
    "    audio_file = path\n",
    "    audio, audio_sample_rate = soundfile.read(\n",
    "        audio_file, dtype=\"int16\", always_2d=True)\n",
    "\n",
    "    audio_regions = auditok.split(\n",
    "        audio_file,\n",
    "        min_dur=mmin_dur,  # minimum duration of a valid audio event in seconds\n",
    "        max_dur=mmax_dur,  # maximum duration of an event\n",
    "        # maximum duration of tolerated continuous silence within an event\n",
    "        max_silence=mmax_silence,\n",
    "        energy_threshold=menergy_threshold  # threshold of detection\n",
    "    )\n",
    "\n",
    "    for i, r in enumerate(audio_regions):\n",
    "        # Regions returned by `split` have 'start' and 'end' metadata fields\n",
    "        # print(\"Region {i}: {r.meta.start:.3f}s -- {r.meta.end:.3f}s\".format(i=i, r=r))\n",
    "\n",
    "        num = i\n",
    "        # 为了取前三位数字排序\n",
    "        s = '000000' + str(num)\n",
    "\n",
    "        file_name = s[-3:] + '-' + '{meta.start:.3f}-{meta.end:.3f}' + '.wav'\n",
    "        file_save = os.path.join(save_path,file_name)\n",
    "\n",
    "        filename = r.save(file_save)\n",
    "        # print(\"region saved as: {}\".format(filename))\n",
    "    # print(f'完成转换，共计{num+1}个文件')"
   ]
  },
  {
   "cell_type": "code",
   "execution_count": 10,
   "metadata": {},
   "outputs": [],
   "source": [
    "# qiefen(resample_path,cut_dir)"
   ]
  },
  {
   "cell_type": "markdown",
   "metadata": {},
   "source": [
    "# 语音转译"
   ]
  },
  {
   "cell_type": "code",
   "execution_count": 11,
   "metadata": {},
   "outputs": [],
   "source": [
    "from paddlespeech.cli.asr.infer import ASRExecutor\n",
    "from paddlespeech.cli.text.infer import TextExecutor"
   ]
  },
  {
   "cell_type": "code",
   "execution_count": 12,
   "metadata": {},
   "outputs": [],
   "source": [
    "asr = ASRExecutor()\n",
    "text_punc = TextExecutor()\n",
    "\n",
    "def record2text(file_path:str,cut_dir:str,text_dir:str):\n",
    "    error_set = set()\n",
    "\n",
    "    try:    \n",
    "        file_pure_name = os.path.split(file_path)[-1].split('.')[0]\n",
    "        file_name = file_pure_name + '.txt'\n",
    "\n",
    "        text = ''\n",
    "        wav_list = os.listdir(cut_dir)\n",
    "        for wav in wav_list:\n",
    "            wav_path = os.path.join(cut_dir,wav)\n",
    "            time_long = get_duration_mp3_and_wav(wav_path)\n",
    "            if time_long < 50:\n",
    "                text += asr(audio_file=wav_path)\n",
    "            else:\n",
    "                error_set.add(file_pure_name)\n",
    "        result = text_punc(text=text)\n",
    "\n",
    "        if text != '':\n",
    "            with open(os.path.join(text_dir,file_name),'w+') as f:\n",
    "                f.write(result)\n",
    "        else:\n",
    "            error_set.add(file_pure_name)\n",
    "\n",
    "    except Exception as e:\n",
    "        print(f'{file_name}文件转译过程中出现问题。')\n",
    "        pass\n",
    "\n",
    "    finally:\n",
    "        if error_set != []:\n",
    "            return list(error_set)\n",
    "        else:\n",
    "            return []"
   ]
  },
  {
   "cell_type": "code",
   "execution_count": 13,
   "metadata": {},
   "outputs": [],
   "source": [
    "# record2text(file_path,cut_dir,text_dir)"
   ]
  },
  {
   "cell_type": "code",
   "execution_count": 14,
   "metadata": {},
   "outputs": [],
   "source": [
    "import time\n",
    "\n",
    "def main(dir_path:str,dir_to:str):\n",
    "    error_num = []\n",
    "\n",
    "    file_all = get_file_name(dir_path)\n",
    "    num = 0 # 计数\n",
    "    while True:\n",
    "        try:\n",
    "            file_path = next(file_all)\n",
    "            duration = get_duration_mp3_and_wav(file_path)\n",
    "            if duration >= 180:\n",
    "                num += 1\n",
    "                file_path,wav_dir,resample_dir,cut_dir,text_dir \\\n",
    "                    = dir_maker(dir_base=dir_to,file_path = file_path)\n",
    "                wav_path = audio_transfor(file_path,wav_dir)\n",
    "                #print('完成wav格式转换')\n",
    "                resample_path = change_sample_rate(wav_path,resample_dir,16000)\n",
    "                #print('完成重采样')\n",
    "                qiefen(resample_path,cut_dir)\n",
    "                #print('完成切分录音')\n",
    "                error_list = record2text(file_path,cut_dir,text_dir)\n",
    "                error_num += error_list\n",
    "                #print('完成文本转换')\n",
    "                #print(f'已完成{num}条')\n",
    "                if num%10 == 0:\n",
    "                    print(f'已完成{num}条')\n",
    "            else:\n",
    "                pass\n",
    "        except StopIteration as e:\n",
    "            break\n",
    "\n",
    "    if error_num != []:\n",
    "        with open('./log/log.txt','a+') as f:\n",
    "            f.write(str(error_num))"
   ]
  },
  {
   "cell_type": "code",
   "execution_count": 15,
   "metadata": {},
   "outputs": [],
   "source": [
    "file_all_dir = r'C:\\Users\\丁健一\\Desktop\\政府满意度项目\\人工外呼相关\\呼出结果分析\\转译项目\\项目文件\\datasets\\测试'\n",
    "change_base=r'C:\\Users\\丁健一\\Desktop\\政府满意度项目\\人工外呼相关\\呼出结果分析\\转译项目\\项目文件\\datasets\\转换文件'"
   ]
  },
  {
   "cell_type": "code",
   "execution_count": 16,
   "metadata": {},
   "outputs": [
    {
     "name": "stdout",
     "output_type": "stream",
     "text": [
      "2022-11-15 13:44:58.299 | INFO     | paddlespeech.s2t.modules.ctc:<module>:45 - paddlespeech_ctcdecoders not installed!\n",
      "2022-11-15 13:44:58.585 | INFO     | paddlespeech.s2t.modules.embedding:__init__:153 - max len: 5000\n"
     ]
    },
    {
     "name": "stderr",
     "output_type": "stream",
     "text": [
      "\u001b[32m[2022-11-15 13:46:23,588] [    INFO]\u001b[0m - Already cached C:\\Users\\丁健一\\.paddlenlp\\models\\ernie-1.0\\vocab.txt\u001b[0m\n"
     ]
    },
    {
     "name": "stdout",
     "output_type": "stream",
     "text": [
      "人大代表_蔡高旭_20221103_20时40分05秒_15777339996.txt文件转译过程中出现问题。\n",
      "政务服务对象_吴海云_20221105_15时24分29秒_18290104229.txt文件转译过程中出现问题。\n",
      "政务服务对象_王玉兰_20221105_15时16分36秒_13217836272.txt文件转译过程中出现问题。\n",
      "政务服务对象_蔡常爱_20221103_20时29分06秒_13560186546.txt文件转译过程中出现问题。\n",
      "政务服务对象_谢丽芳_20221105_15时32分03秒_15277380324.txt文件转译过程中出现问题。\n",
      "政务服务对象_韦建慧_20221104_15时46分41秒_15078977984.txt文件转译过程中出现问题。\n",
      "政务服务对象_黄从超_20221104_12时28分26秒_18877305822.txt文件转译过程中出现问题。\n",
      "政务服务对象_黄荣福_20221103_17时21分02秒_18290157068.txt文件转译过程中出现问题。\n",
      "热线投诉群众(部门)_附件4热线13504011829_20221106_14时52分07秒_13504011829.txt文件转译过程中出现问题。\n",
      "已完成10条\n",
      "热线投诉群众(部门)_附件4热线13597307799_20221106_15时09分12秒_13597307799.txt文件转译过程中出现问题。\n",
      "热线投诉群众(部门)_附件4热线13978355827_20221106_15时27分23秒_13978355827.txt文件转译过程中出现问题。\n",
      "热线投诉群众(部门)_附件4热线15394427231_20221108_14时49分41秒_15394427231.txt文件转译过程中出现问题。\n",
      "热线投诉群众(部门)_附件4热线15507730155_20221106_15时44分13秒_15507730155.txt文件转译过程中出现问题。\n",
      "热线投诉群众(部门)_附件4热线15577335116_20221106_16时01分24秒_15577335116.txt文件转译过程中出现问题。\n",
      "热线投诉群众(部门)_附件4热线18607737523_20221108_14时38分19秒_18607737523.txt文件转译过程中出现问题。\n",
      "热线投诉群众(部门)_附件4热线18778850898_20221106_14时36分01秒_18778850898.txt文件转译过程中出现问题。\n",
      "热线投诉群众(部门)_附件4热线18877383493_20221106_14时21分20秒_18877383493.txt文件转译过程中出现问题。\n",
      "已完成20条\n",
      "热线投诉群众(部门)_附件4热线18977342980_20221106_14时05分53秒_18977342980.txt文件转译过程中出现问题。\n",
      "热线投诉群众(部门)_附件4热线19877336667_20221106_20时51分22秒_19877336667.txt文件转译过程中出现问题。\n",
      "热线投诉群众_附件11热线13132975238_20221106_11时04分48秒_13132975238.txt文件转译过程中出现问题。\n",
      "热线投诉群众_附件11热线13428379878_20221106_11时27分27秒_13428379878.txt文件转译过程中出现问题。\n",
      "热线投诉群众_附件11热线13507722156_20221106_19时21分07秒_13507722156.txt文件转译过程中出现问题。\n",
      "热线投诉群众_附件11热线13558035203_20221106_19时27分51秒_13558035203.txt文件转译过程中出现问题。\n",
      "热线投诉群众_附件11热线13558425506_20221106_19时36分27秒_13558425506.txt文件转译过程中出现问题。\n",
      "热线投诉群众_附件11热线13607831138_20221106_19时47分14秒_13607831138.txt文件转译过程中出现问题。\n",
      "热线投诉群众_附件11热线13654190605_20221106_19时59分06秒_13654190605.txt文件转译过程中出现问题。\n",
      "热线投诉群众_附件11热线13657869488_20221106_20时09分33秒_13657869488.txt文件转译过程中出现问题。\n",
      "已完成30条\n",
      "热线投诉群众_附件11热线13657874685_20221106_20时19分17秒_13657874685.txt文件转译过程中出现问题。\n",
      "热线投诉群众_附件11热线13707732135_20221106_20时34分59秒_13707732135.txt文件转译过程中出现问题。\n",
      "热线投诉群众_附件11热线15295907776_20221107_11时44分17秒_15295907776.txt文件转译过程中出现问题。\n",
      "热线投诉群众_附件11热线15577429897_20221107_12时18分37秒_15577429897.txt文件转译过程中出现问题。\n",
      "热线投诉群众_附件11热线17377392118_20221107_09时56分05秒_17377392118.txt文件转译过程中出现问题。\n",
      "热线投诉群众_附件11热线18290126180_20221107_12时42分45秒_18290126180.txt文件转译过程中出现问题。\n",
      "重大项目业主_吴玉红_20221105_16时55分16秒_15707736661.txt文件转译过程中出现问题。\n",
      "重大项目业主_曾亮进_20221105_11时38分59秒_18677188166.txt文件转译过程中出现问题。\n",
      "骨干企业主_唐毅_20221105_13时08分44秒_18977370986.txt文件转译过程中出现问题。\n",
      "已完成40条\n",
      "骨干企业主_陈学谊_20221103_20时54分09秒_18778391533.txt文件转译过程中出现问题。\n"
     ]
    }
   ],
   "source": [
    "import warnings\n",
    "warnings.filterwarnings('ignore')\n",
    "\n",
    "main(dir_path=file_all_dir,dir_to=change_base)"
   ]
  },
  {
   "cell_type": "code",
   "execution_count": null,
   "metadata": {},
   "outputs": [],
   "source": []
  }
 ],
 "metadata": {
  "kernelspec": {
   "display_name": "Python 3.9.12 ('base')",
   "language": "python",
   "name": "python3"
  },
  "language_info": {
   "codemirror_mode": {
    "name": "ipython",
    "version": 3
   },
   "file_extension": ".py",
   "mimetype": "text/x-python",
   "name": "python",
   "nbconvert_exporter": "python",
   "pygments_lexer": "ipython3",
   "version": "3.9.12"
  },
  "orig_nbformat": 4,
  "vscode": {
   "interpreter": {
    "hash": "861f9c34f7302a1aedb62edfc1533c524ce2793735e6b405602ea89eb9cb2484"
   }
  }
 },
 "nbformat": 4,
 "nbformat_minor": 2
}
